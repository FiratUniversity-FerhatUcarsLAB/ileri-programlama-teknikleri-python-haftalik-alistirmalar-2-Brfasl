{
 "cells": [
  {
   "cell_type": "markdown",
   "id": "e2abb239",
   "metadata": {},
   "source": [
    "# YMH220 - İleri Programlama Teknikleri\n",
    "## Python Egzersizleri\n",
    "\n",
    "### İsim:Berfin Aslan\n",
    "### Öğrenci No:225541068\n",
    "### Tarih:13.04.2025\n"
   ]
  },
  {
   "cell_type": "markdown",
   "id": "570c2a05",
   "metadata": {},
   "source": [
    "# Soru 1\n",
    "### Verilen bir tam sayının asal sayı olup olmadığını belirleyen `asal_mi` isimli Python fonksiyonunu yazınız.\n",
    "\n",
    "### Fonksiyonunuzu test edin\n",
    "```python\n",
    "print(asal_mi(11))  # Beklenen çıktı: True\n",
    "print(asal_mi(15))  # Beklenen çıktı: False\n",
    "```"
   ]
  },
  {
   "cell_type": "code",
   "execution_count": 20,
   "id": "72806d01",
   "metadata": {},
   "outputs": [
    {
     "name": "stdout",
     "output_type": "stream",
     "text": [
      "True\n",
      "False\n"
     ]
    }
   ],
   "source": [
    "# Çözümünüzü buraya yazınız\n",
    "\n",
    "\n",
    "\n",
    "def asal_mi(n):\n",
    "    \"\"\"\n",
    "    Verilen bir tam sayının asal olup olmadığını kontrol eder.\n",
    "    \n",
    "    Parametre:\n",
    "        n (int): Kontrol edilecek sayı\n",
    "    \n",
    "    Dönüş:\n",
    "        bool: Asal ise True, değilse False\n",
    "    \"\"\"\n",
    "    if n <= 1:\n",
    "        return False\n",
    "    for i in range(2, int(n**0.5) + 1):\n",
    "        if n % i == 0:\n",
    "            return False\n",
    "    return True\n",
    "\n",
    "# Fonksiyonu test et\n",
    "print(asal_mi(11))  # Beklenen çıktı: True\n",
    "print(asal_mi(15))  # Beklenen çıktı: False\n"
   ]
  },
  {
   "cell_type": "markdown",
   "id": "2c5e4bd9",
   "metadata": {},
   "source": [
    "# Soru 2\n",
    "### İki tam sayının en büyük ortak bölenini (EBOB) Öklid algoritması ile hesaplayan `ebob` isimli Python fonksiyonunu yazınız.\n",
    "\n",
    "### Fonksiyonunuzu test edin\n",
    "```python\n",
    "print(ebob(48, 18))  # Beklenen çıktı: 6\n",
    "print(ebob(100, 25))  # Beklenen çıktı: 25\n",
    "```"
   ]
  },
  {
   "cell_type": "code",
   "execution_count": 19,
   "id": "e4c8987e",
   "metadata": {},
   "outputs": [
    {
     "name": "stdout",
     "output_type": "stream",
     "text": [
      "6\n",
      "25\n"
     ]
    }
   ],
   "source": [
    "# Çözümünüzü buraya yazınız\n",
    "\n",
    "\n",
    "def ebob(a, b):\n",
    "    \"\"\"\n",
    "    İki tam sayının en büyük ortak bölenini (EBOB) Öklid algoritması ile hesaplar.\n",
    "    \n",
    "    Parametreler:\n",
    "        a (int): Birinci sayı\n",
    "        b (int): İkinci sayı\n",
    "    \n",
    "    Dönüş:\n",
    "        int: EBOB değeri\n",
    "    \"\"\"\n",
    "    while b != 0:\n",
    "        a, b = b, a % b\n",
    "    return a\n",
    "\n",
    "# Fonksiyonu test et\n",
    "print(ebob(48, 18))   # Beklenen çıktı: 6\n",
    "print(ebob(100, 25))  # Beklenen çıktı: 25\n",
    "\n",
    "\n"
   ]
  },
  {
   "cell_type": "markdown",
   "id": "499fd7b4",
   "metadata": {},
   "source": [
    "# Soru 3\n",
    "### Verilen bir metindeki sesli harflerin (a, e, ı, i, o, ö, u, ü) sayısını hesaplayarak döndüren `sesli_harf_sayisi` fonksiyonunu yazınız.\n",
    "\n",
    "### Fonksiyonunuzu test edin\n",
    "```python\n",
    "print(sesli_harf_sayisi(\"programlama\"))  # Beklenen çıktı: 4\n",
    "print(sesli_harf_sayisi(\"algoritma\"))  # Beklenen çıktı: 4\n",
    "```"
   ]
  },
  {
   "cell_type": "code",
   "execution_count": 13,
   "id": "5488e486",
   "metadata": {},
   "outputs": [
    {
     "name": "stdout",
     "output_type": "stream",
     "text": [
      "5\n",
      "5\n"
     ]
    }
   ],
   "source": [
    "# Çözümünüzü buraya yazınız\n",
    "\n",
    "\n",
    "\n",
    "def sesli_harf_sayisi(metin):\n",
    "    \"\"\"\n",
    "    Verilen bir metindeki sesli harflerin sayısını hesaplar.\n",
    "    \n",
    "    Parametre:\n",
    "        metin (str): İncelenecek metin\n",
    "    \n",
    "    Dönüş:\n",
    "        int: Sesli harf sayısı\n",
    "    \"\"\"\n",
    "    sesliler = 'aeıioöuüAEIİOÖUÜ'\n",
    "    sayac = 0\n",
    "    for harf in metin:\n",
    "        if harf in sesliler:\n",
    "            sayac += 1\n",
    "    return sayac\n",
    "\n",
    "# Fonksiyonu test et\n",
    "print(sesli_harf_sayisi(\"Merhaba Dünya\"))   # Beklenen çıktı: 5\n",
    "print(sesli_harf_sayisi(\"Python Programlama\"))  # Beklenen çıktı: 6\n",
    "\n"
   ]
  },
  {
   "cell_type": "markdown",
   "id": "f61da9c2",
   "metadata": {},
   "source": [
    "# Soru 4\n",
    "### İki sıralı listeyi tek bir sıralı liste olarak birleştiren ve hazır sıralama fonksiyonlarını kullanmayan `sirali_listeleri_birlestir` fonksiyonunu yazınız.\n",
    "\n",
    "### Fonksiyonunuzu test edin\n",
    "```python\n",
    "print(sirali_listeleri_birlestir([1, 3, 5], [2, 4, 6]))  # Beklenen çıktı: [1, 2, 3, 4, 5, 6]\n",
    "print(sirali_listeleri_birlestir([-3, 0, 7], [-1, 4, 10]))  # Beklenen çıktı: [-3, -1, 0, 4, 7, 10]\n",
    "```"
   ]
  },
  {
   "cell_type": "code",
   "execution_count": 22,
   "id": "284fd7c4",
   "metadata": {},
   "outputs": [
    {
     "name": "stdout",
     "output_type": "stream",
     "text": [
      "[1, 2, 3, 4, 5, 6]\n",
      "[1, 2, 3, 5, 7, 8, 9]\n"
     ]
    }
   ],
   "source": [
    "# Çözümünüzü buraya yazınız\n",
    "\n",
    "\n",
    "def sirali_listeleri_birlestir(l1, l2):\n",
    "    \"\"\"\n",
    "    İki sıralı listeyi birleştirip sıralı yeni bir liste döndürür.\n",
    "    \n",
    "    Parametreler:\n",
    "        l1 (list): Artan sıralı birinci liste\n",
    "        l2 (list): Artan sıralı ikinci liste\n",
    "    \n",
    "    Dönüş:\n",
    "        list: Sıralı birleşmiş liste\n",
    "    \"\"\"\n",
    "    i = j = 0\n",
    "    birlesmis = []\n",
    "\n",
    "    while i < len(l1) and j < len(l2):\n",
    "        if l1[i] < l2[j]:\n",
    "            birlesmis.append(l1[i])\n",
    "            i += 1\n",
    "        else:\n",
    "            birlesmis.append(l2[j])\n",
    "            j += 1\n",
    "\n",
    "    birlesmis.extend(l1[i:])\n",
    "    birlesmis.extend(l2[j:])\n",
    "    return birlesmis\n",
    "\n",
    "# Fonksiyonu test et\n",
    "print(sirali_listeleri_birlestir([1, 3, 5], [2, 4, 6]))  \n",
    "# Beklenen çıktı: [1, 2, 3, 4, 5, 6]\n",
    "\n",
    "print(sirali_listeleri_birlestir([1, 2, 7], [3, 5, 8, 9]))  \n",
    "# Beklenen çıktı: [1, 2, 3, 5, 7, 8, 9]\n"
   ]
  },
  {
   "cell_type": "markdown",
   "id": "4987ac27",
   "metadata": {},
   "source": [
    "# Soru 5\n",
    "### Sıralı bir listede ikili arama algoritmasını kullanarak verilen elemanın indeksini bulan (eğer eleman listede yoksa -1 dönen) `ikili_arama` fonksiyonunu yazınız.\n",
    "\n",
    "### Fonksiyonunuzu test edin\n",
    "```python\n",
    "print(ikili_arama([1, 3, 5, 7, 9, 11], 7))  # Beklenen çıktı: 3\n",
    "print(ikili_arama([2, 4, 6, 8, 10], 5))  # Beklenen çıktı: -1\n",
    "```"
   ]
  },
  {
   "cell_type": "code",
   "execution_count": 15,
   "id": "0320ee58",
   "metadata": {},
   "outputs": [
    {
     "name": "stdout",
     "output_type": "stream",
     "text": [
      "2\n",
      "-1\n"
     ]
    }
   ],
   "source": [
    "# Çözümünüzü buraya yazınız\n",
    "\n",
    "\n",
    "def ikili_arama(liste, hedef):\n",
    "    \"\"\"\n",
    "    Sıralı bir listede ikili arama yaparak hedefin indeksini döndürür.\n",
    "    \n",
    "    Parametreler:\n",
    "        liste (list): Artan sıralı liste\n",
    "        hedef (int): Aranacak değer\n",
    "    \n",
    "    Dönüş:\n",
    "        int: Hedef değerin indeks numarası (bulunamazsa -1)\n",
    "    \"\"\"\n",
    "    sol = 0\n",
    "    sag = len(liste) - 1\n",
    "\n",
    "    while sol <= sag:\n",
    "        orta = (sol + sag) // 2\n",
    "        if liste[orta] == hedef:\n",
    "            return orta\n",
    "        elif liste[orta] < hedef:\n",
    "            sol = orta + 1\n",
    "        else:\n",
    "            sag = orta - 1\n",
    "\n",
    "    return -1\n",
    "\n",
    "# Fonksiyonu test et\n",
    "print(ikili_arama([1, 3, 5, 7, 9], 5))   # Beklenen çıktı: 2\n",
    "print(ikili_arama([1, 3, 5, 7, 9], 8))   # Beklenen çıktı: -1\n",
    "\n"
   ]
  }
 ],
 "metadata": {
  "kernelspec": {
   "display_name": "Python 3",
   "language": "python",
   "name": "python3"
  },
  "language_info": {
   "codemirror_mode": {
    "name": "ipython",
    "version": 3
   },
   "file_extension": ".py",
   "mimetype": "text/x-python",
   "name": "python",
   "nbconvert_exporter": "python",
   "pygments_lexer": "ipython3",
   "version": "3.9.6"
  }
 },
 "nbformat": 4,
 "nbformat_minor": 5
}
